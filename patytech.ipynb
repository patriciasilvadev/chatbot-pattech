{
  "cells": [
    {
      "cell_type": "code",
      "execution_count": 2,
      "metadata": {
        "colab": {
          "base_uri": "https://localhost:8080/"
        },
        "id": "xi4iEpSC6K8T",
        "outputId": "f5888aec-df2d-4ac1-a250-abe41b90e089"
      },
      "outputs": [
        {
          "output_type": "stream",
          "name": "stdout",
          "text": [
            "\u001b[?25l   \u001b[90m━━━━━━━━━━━━━━━━━━━━━━━━━━━━━━━━━━━━━━━━\u001b[0m \u001b[32m0.0/1.2 MB\u001b[0m \u001b[31m?\u001b[0m eta \u001b[36m-:--:--\u001b[0m\r\u001b[2K   \u001b[91m━━━━━━━━━━━━━━━━━━━━\u001b[0m\u001b[91m╸\u001b[0m\u001b[90m━━━━━━━━━━━━━━━━━━━\u001b[0m \u001b[32m0.6/1.2 MB\u001b[0m \u001b[31m18.5 MB/s\u001b[0m eta \u001b[36m0:00:01\u001b[0m\r\u001b[2K   \u001b[91m━━━━━━━━━━━━━━━━━━━━━━━━━━━━━━━━━━━━━━━\u001b[0m\u001b[91m╸\u001b[0m \u001b[32m1.2/1.2 MB\u001b[0m \u001b[31m24.5 MB/s\u001b[0m eta \u001b[36m0:00:01\u001b[0m\r\u001b[2K   \u001b[90m━━━━━━━━━━━━━━━━━━━━━━━━━━━━━━━━━━━━━━━━\u001b[0m \u001b[32m1.2/1.2 MB\u001b[0m \u001b[31m15.7 MB/s\u001b[0m eta \u001b[36m0:00:00\u001b[0m\n",
            "\u001b[?25h\u001b[?25l   \u001b[90m━━━━━━━━━━━━━━━━━━━━━━━━━━━━━━━━━━━━━━━━\u001b[0m \u001b[32m0.0/232.1 kB\u001b[0m \u001b[31m?\u001b[0m eta \u001b[36m-:--:--\u001b[0m\r\u001b[2K   \u001b[90m━━━━━━━━━━━━━━━━━━━━━━━━━━━━━━━━━━━━━━━━\u001b[0m \u001b[32m232.1/232.1 kB\u001b[0m \u001b[31m14.8 MB/s\u001b[0m eta \u001b[36m0:00:00\u001b[0m\n",
            "\u001b[2K   \u001b[90m━━━━━━━━━━━━━━━━━━━━━━━━━━━━━━━━━━━━━━━━\u001b[0m \u001b[32m95.2/95.2 kB\u001b[0m \u001b[31m6.1 MB/s\u001b[0m eta \u001b[36m0:00:00\u001b[0m\n",
            "\u001b[2K   \u001b[90m━━━━━━━━━━━━━━━━━━━━━━━━━━━━━━━━━━━━━━━━\u001b[0m \u001b[32m217.1/217.1 kB\u001b[0m \u001b[31m13.5 MB/s\u001b[0m eta \u001b[36m0:00:00\u001b[0m\n",
            "\u001b[2K   \u001b[90m━━━━━━━━━━━━━━━━━━━━━━━━━━━━━━━━━━━━━━━━\u001b[0m \u001b[32m334.1/334.1 kB\u001b[0m \u001b[31m17.5 MB/s\u001b[0m eta \u001b[36m0:00:00\u001b[0m\n",
            "\u001b[2K   \u001b[90m━━━━━━━━━━━━━━━━━━━━━━━━━━━━━━━━━━━━━━━━\u001b[0m \u001b[32m125.1/125.1 kB\u001b[0m \u001b[31m8.2 MB/s\u001b[0m eta \u001b[36m0:00:00\u001b[0m\n",
            "\u001b[2K   \u001b[90m━━━━━━━━━━━━━━━━━━━━━━━━━━━━━━━━━━━━━━━━\u001b[0m \u001b[32m65.8/65.8 kB\u001b[0m \u001b[31m4.7 MB/s\u001b[0m eta \u001b[36m0:00:00\u001b[0m\n",
            "\u001b[2K   \u001b[90m━━━━━━━━━━━━━━━━━━━━━━━━━━━━━━━━━━━━━━━━\u001b[0m \u001b[32m119.0/119.0 kB\u001b[0m \u001b[31m9.1 MB/s\u001b[0m eta \u001b[36m0:00:00\u001b[0m\n",
            "\u001b[2K   \u001b[90m━━━━━━━━━━━━━━━━━━━━━━━━━━━━━━━━━━━━━━━━\u001b[0m \u001b[32m194.9/194.9 kB\u001b[0m \u001b[31m10.6 MB/s\u001b[0m eta \u001b[36m0:00:00\u001b[0m\n",
            "\u001b[2K   \u001b[90m━━━━━━━━━━━━━━━━━━━━━━━━━━━━━━━━━━━━━━━━\u001b[0m \u001b[32m62.5/62.5 kB\u001b[0m \u001b[31m4.0 MB/s\u001b[0m eta \u001b[36m0:00:00\u001b[0m\n",
            "\u001b[2K   \u001b[90m━━━━━━━━━━━━━━━━━━━━━━━━━━━━━━━━━━━━━━━━\u001b[0m \u001b[32m103.3/103.3 kB\u001b[0m \u001b[31m7.2 MB/s\u001b[0m eta \u001b[36m0:00:00\u001b[0m\n",
            "\u001b[2K   \u001b[90m━━━━━━━━━━━━━━━━━━━━━━━━━━━━━━━━━━━━━━━━\u001b[0m \u001b[32m44.4/44.4 kB\u001b[0m \u001b[31m2.7 MB/s\u001b[0m eta \u001b[36m0:00:00\u001b[0m\n",
            "\u001b[2K   \u001b[90m━━━━━━━━━━━━━━━━━━━━━━━━━━━━━━━━━━━━━━━━\u001b[0m \u001b[32m72.0/72.0 kB\u001b[0m \u001b[31m4.8 MB/s\u001b[0m eta \u001b[36m0:00:00\u001b[0m\n",
            "\u001b[?25h"
          ]
        }
      ],
      "source": [
        "!pip install -q google-adk google-generativeai"
      ]
    },
    {
      "cell_type": "code",
      "execution_count": 3,
      "metadata": {
        "id": "hMo-j2J06bTq"
      },
      "outputs": [],
      "source": [
        "import os\n",
        "from google.colab import userdata\n",
        "\n",
        "os.environ[\"GOOGLE_API_KEY\"] = userdata.get('GOOGLE_API_KEY')"
      ]
    },
    {
      "cell_type": "code",
      "execution_count": null,
      "metadata": {
        "colab": {
          "base_uri": "https://localhost:8080/"
        },
        "id": "mIgZwvxC6jZg",
        "outputId": "f7b69c8e-a45c-4500-caee-460d47cdbf3e"
      },
      "outputs": [
        {
          "output_type": "stream",
          "name": "stdout",
          "text": [
            "Olá! Sou o PatTech, seu assistente de tecnologia. Como posso ajudar hoje?\n"
          ]
        }
      ],
      "source": [
        "from google.adk.agents import Agent\n",
        "from google.adk.tools import google_search\n",
        "from google.genai import types\n",
        "import textwrap\n",
        "from IPython.display import Markdown\n",
        "\n",
        "# 1. Instanciar a ferramenta de busca do Google\n",
        "ferramenta_de_busca = google_search\n",
        "\n",
        "# 2. Definir o nome e a descrição do agente\n",
        "nome_do_agente = \"PatTech\"\n",
        "descricao_do_agente = \"Um chatbot amigável que ajuda pessoas com dificuldades em tecnologia, com acesso à busca do Google.\"\n",
        "\n",
        "# 3. Definir as instruções do agente (atualizadas para usar a busca)\n",
        "instrucoes_do_agente = \"\"\"\n",
        "Você é o PatTech\n",
        "Um assistente virtual feito para ajudar quem está começando a usar a tecnologia. Sua missão é ser um amigo confiável, explicando o mundo dos celulares, computadores e internet de forma simples e passo a passo.\n",
        "\n",
        "Como você deve conversar:\n",
        "- Use uma linguagem simples, clara e acolhedora.\n",
        "- Sempre explique de forma devagar e passo a passo.\n",
        "- Evite palavras difíceis. Se usar algum termo técnico, explique com um exemplo ou metáfora.\n",
        "- Seja gentil, paciente e encorajador – como um amigo que está do lado, ensinando com calma.\n",
        "- Dê respostas curtas e diretas, e depois siga com um passo a passo.\n",
        "- Sempre que possível, compartilhe um link de vídeo no YouTube que mostre como fazer o que foi pedido.\n",
        "- Nunca use gírias ou expressões muito informais.\n",
        "- Mostre que está ali para ajudar com carinho, sem julgar.\n",
        "\n",
        "\n",
        "- Como responder às perguntas:\n",
        "Use seu conhecimento primeiro.\n",
        "\n",
        "Se necessário, busque tutoriais simples e confiáveis no YouTube usando termos como:\n",
        "“como fazer [o que foi pedido] no celular” ou\n",
        "“passo a passo para [ação] no Windows”.\n",
        "\n",
        "- Monte sua resposta assim:\n",
        "\n",
        "Comece com uma frase acolhedora ou encorajadora.\n",
        "Frase curta explicando o que é ou o que fazer.\n",
        "Passo a passo numerado, claro e direto.\n",
        "\n",
        "Link de um vídeo simples do YouTube, com a frase:\n",
        "“Você pode ver como fazer nesse vídeo aqui: [link]”\n",
        "\n",
        "Finalize com uma frase de apoio, como:\n",
        "“Se precisar de mais ajuda, estou aqui!” ou \"Você consegue, continue tentando!\"\n",
        "\n",
        "Exemplo de resposta com tudo junto:\n",
        "Pergunta: Como tirar print no celular?\n",
        "\n",
        "Resposta:\n",
        "---\n",
        "Claro! Tirar print é como tirar uma foto da tela.\n",
        "\n",
        "Veja como fazer:\n",
        "\n",
        "Pressione ao mesmo tempo os botões Liga/Desliga e Volume para baixo.\n",
        "\n",
        "A tela vai piscar e o print será salvo na sua galeria.\n",
        "\n",
        "👉 Você pode ver um vídeo explicando aqui: https://www.youtube.com/watch?v=exemplo\n",
        "\n",
        "Se não funcionar, me diga o modelo do seu celular que eu te ajudo. 😊\n",
        "---\n",
        "\"\"\"\n",
        "\n",
        "# Atualizar o agente com as novas instruções\n",
        "pattech_agente = Agent(\n",
        "    name=nome_do_agente,\n",
        "    model=\"gemini-2.0-flash\",\n",
        "    description=descricao_do_agente,\n",
        "    instruction=instrucoes_do_agente,\n",
        "    tools=[ferramenta_de_busca]\n",
        ")\n",
        "\n",
        "# Função auxiliar para exibir texto formatado em Markdown\n",
        "def to_markdown(text):\n",
        "    text = text.replace('•', '  *')\n",
        "    return Markdown(textwrap.indent(text, '> ', predicate=lambda _: True))\n",
        "\n",
        "# Função para interagir com o agente\n",
        "from google.adk.runners import Runner\n",
        "from google.adk.sessions import InMemorySessionService\n",
        "\n",
        "def interagir_com_agente(agente: Agent, mensagem_usuario: str) -> str:\n",
        "    session_service = InMemorySessionService()\n",
        "    session = session_service.create_session(app_name=agente.name, user_id=\"user1\", session_id=\"session1\")\n",
        "    runner = Runner(agent=agente, app_name=agente.name, session_service=session_service)\n",
        "    content = types.Content(role=\"user\", parts=[types.Part(text=mensagem_usuario)])\n",
        "\n",
        "    resposta_final = \"\"\n",
        "    for evento in runner.run(user_id=\"user1\", session_id=\"session1\", new_message=content):\n",
        "        if evento.is_final_response():\n",
        "            for parte in evento.content.parts:\n",
        "                if parte.text is not None:\n",
        "                    resposta_final += parte.text\n",
        "                    resposta_final += \"\\n\"\n",
        "        elif evento.tool_code:\n",
        "            print(f\"\\n--- Ferramenta de Busca do Google Ativada ---\")\n",
        "            print(f\"Código da Ferramenta: {evento.tool_code.code}\")\n",
        "            if evento.tool_code.outputs:\n",
        "                print(f\"Resultados da Busca:\")\n",
        "                for output in evento.tool_code.outputs:\n",
        "                    if hasattr(output, 'parts'):\n",
        "                        for part in output.parts:\n",
        "                            print(f\"- {part.text}\")\n",
        "            print(\"---------------------------------------------\\n\")\n",
        "    return resposta_final\n",
        "\n",
        "# Loop de interação com o usuário\n",
        "print(\"Olá! Sou o PatTech, seu assistente de tecnologia. Como posso ajudar hoje?\")\n",
        "while True:\n",
        "    pergunta_do_usuario = input(\"Você: \")\n",
        "    if pergunta_do_usuario.lower() in [\"sair\", \"encerrar\", \"adeus\", \"tchau\"]:\n",
        "        print(\"PatTech: Foi um prazer ajudar! Até a próxima!\")\n",
        "        break\n",
        "    resposta_do_agente = interagir_com_agente(pattech_agente, pergunta_do_usuario)\n",
        "    print(\"PatTech:\")\n",
        "    display(to_markdown(resposta_do_agente))\n",
        "    print(\"------\")"
      ]
    }
  ],
  "metadata": {
    "colab": {
      "provenance": []
    },
    "kernelspec": {
      "display_name": "Python 3",
      "name": "python3"
    },
    "language_info": {
      "name": "python"
    }
  },
  "nbformat": 4,
  "nbformat_minor": 0
}